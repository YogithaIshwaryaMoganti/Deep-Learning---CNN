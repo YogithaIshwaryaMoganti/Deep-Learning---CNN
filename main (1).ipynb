{
 "cells": [
  {
   "cell_type": "code",
   "execution_count": 1,
   "id": "fea62263",
   "metadata": {},
   "outputs": [],
   "source": [
    "from google.cloud import storage\n",
    "import tensorflow as tf\n",
    "from PIL import Image\n",
    "import numpy as np\n",
    "\n",
    "model = None\n",
    "interpreter = None\n",
    "input_index = None\n",
    "output_index = None\n",
    "\n",
    "class_names = [\"Early Blight\", \"Late Blight\", \"Healthy\"]\n",
    "\n",
    "BUCKET_NAME = \"codebasics-tf-models_2\"  # Here you need to put the name of your GCP bucket\n",
    "\n",
    "\n",
    "def download_blob(bucket_name, source_blob_name, destination_file_name):\n",
    "    \"\"\"Downloads a blob from the bucket.\"\"\"\n",
    "    storage_client = storage.Client()\n",
    "    bucket = storage_client.get_bucket(bucket_name)\n",
    "    blob = bucket.blob(source_blob_name)\n",
    "\n",
    "    blob.download_to_filename(destination_file_name)\n",
    "\n",
    "    print(f\"Blob {source_blob_name} downloaded to {destination_file_name}.\")\n",
    "\n",
    "\n",
    "def predict(request):\n",
    "    global model\n",
    "    if model is None:\n",
    "        print(\"I will download the model now\")\n",
    "        download_blob(\n",
    "            BUCKET_NAME,\n",
    "            \"models/potatoes.h5\",\n",
    "            \"/tmp/potatoes.h5\",\n",
    "        )\n",
    "        model = tf.keras.models.load_model(\"/tmp/potatoes.h5\")\n",
    "        print(\"model downloaded\", model)\n",
    "\n",
    "    image_file = request.files[\"file\"]\n",
    "    image = np.array(Image.open(image_file).convert(\"RGB\").resize((256, 256)))\n",
    "    image = image / 255  # normalize the image in the 0 to 1 range\n",
    "\n",
    "    img_array = tf.expand_dims(image, 0)\n",
    "    raw_predictions = model.predict(img_array)\n",
    "\n",
    "    print(raw_predictions)\n",
    "\n",
    "    predicted_class = class_names[np.argmax(raw_predictions[0])]\n",
    "    confidence = round(100 * np.max(raw_predictions[0]), 2)\n",
    "\n",
    "    return {\"class\": predicted_class, \"confidence\": confidence}"
   ]
  },
  {
   "cell_type": "code",
   "execution_count": null,
   "id": "2b2ef45a",
   "metadata": {},
   "outputs": [],
   "source": []
  }
 ],
 "metadata": {
  "kernelspec": {
   "display_name": "Python 3 (ipykernel)",
   "language": "python",
   "name": "python3"
  },
  "language_info": {
   "codemirror_mode": {
    "name": "ipython",
    "version": 3
   },
   "file_extension": ".py",
   "mimetype": "text/x-python",
   "name": "python",
   "nbconvert_exporter": "python",
   "pygments_lexer": "ipython3",
   "version": "3.10.10"
  }
 },
 "nbformat": 4,
 "nbformat_minor": 5
}
